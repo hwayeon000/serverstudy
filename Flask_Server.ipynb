{
 "cells": [
  {
   "cell_type": "code",
   "execution_count": 1,
   "id": "913bd9f8",
   "metadata": {},
   "outputs": [
    {
     "name": "stdout",
     "output_type": "stream",
     "text": [
      "Requirement already satisfied: flask in c:\\users\\gjaischool61\\anaconda3\\lib\\site-packages (1.1.2)\n",
      "Requirement already satisfied: click>=5.1 in c:\\users\\gjaischool61\\anaconda3\\lib\\site-packages (from flask) (8.0.4)\n",
      "Requirement already satisfied: Werkzeug>=0.15 in c:\\users\\gjaischool61\\anaconda3\\lib\\site-packages (from flask) (2.0.3)\n",
      "Requirement already satisfied: Jinja2>=2.10.1 in c:\\users\\gjaischool61\\anaconda3\\lib\\site-packages (from flask) (2.11.3)\n",
      "Requirement already satisfied: itsdangerous>=0.24 in c:\\users\\gjaischool61\\anaconda3\\lib\\site-packages (from flask) (2.0.1)\n",
      "Requirement already satisfied: colorama in c:\\users\\gjaischool61\\anaconda3\\lib\\site-packages (from click>=5.1->flask) (0.4.4)\n",
      "Requirement already satisfied: MarkupSafe>=0.23 in c:\\users\\gjaischool61\\anaconda3\\lib\\site-packages (from Jinja2>=2.10.1->flask) (2.0.1)\n",
      "Note: you may need to restart the kernel to use updated packages.\n"
     ]
    }
   ],
   "source": [
    "%pip install flask"
   ]
  },
  {
   "cell_type": "markdown",
   "id": "999f4d5e",
   "metadata": {},
   "source": [
    "# Flask란?\n",
    "- Python 언어를 사용하는 웹 마이크로프레임워크\n",
    "\n",
    "#### render_template : templates 폴더 내 html문서를 호출\n",
    "#### request : 요청과 관련된 작업을 수행할 수 있는 라이브러리"
   ]
  },
  {
   "cell_type": "markdown",
   "id": "95e108c1",
   "metadata": {},
   "source": [
    "- Flask : 서버를 올리는 기능이 들어있는 라이브러리\n",
    "\n",
    "- route \n",
    "- html문서 리턴 가능"
   ]
  },
  {
   "cell_type": "markdown",
   "id": "a7a1f9a8",
   "metadata": {},
   "source": [
    "## 데이터 전송 방식\n",
    "#### 1. GET방식 : url에 ?(쿼리스트링)형식을 통해 key와 value의 쌍으로 전송\n",
    "    - 예) 192.168.0.31:5021/cal?num1=3&num2=5\n",
    "\n",
    "#### 2. POST방식 : \\<body> 태그 안쪽에  data가 key와 value의 쌍으로 전송"
   ]
  },
  {
   "cell_type": "code",
   "execution_count": null,
   "id": "46f1de1f",
   "metadata": {},
   "outputs": [],
   "source": [
    "from flask import Flask, render_template, request"
   ]
  },
  {
   "cell_type": "code",
   "execution_count": null,
   "id": "0f0ee5cb",
   "metadata": {},
   "outputs": [],
   "source": [
    "# __ private\n",
    "# 인스턴스\n",
    "app = Flask(__name__)\n",
    "\n",
    "@app.route('/')   #최성위 경로로 접속시\n",
    "def index():\n",
    "    return render_template('index.html')\n",
    "\n",
    "@app.route('/cal', methods=['GET', 'POST'])\n",
    "def cal():\n",
    "    if request.method == 'GET':\n",
    "        #GET방식\n",
    "        print(\"GET방식 요청\")\n",
    "        \n",
    "        num1 = request.args['num1']\n",
    "        num2 = request.args['num2']\n",
    "        \n",
    "        result = int(num1) + int(num2)\n",
    "        \n",
    "        return f\"더하기 결과는 {result}입니다.\"\n",
    "        \n",
    "    elif request.method == 'POST':\n",
    "        #POST방식\n",
    "        print(\"POST방식 요청\")\n",
    "    \n",
    "    return \"계산 성공!\"\n",
    "\n",
    "\n",
    "@app.route('/login', methods=['POST'])\n",
    "def login():\n",
    "    if request.method == 'POST':\n",
    "        login_id = request.form['id']\n",
    "        login_pw = request.form['pw']\n",
    "        \n",
    "        if login_id == 'hwayeon' and login_pw == '1234':\n",
    "            return '로그인 성공'\n",
    "        else:\n",
    "            return '로그인 실패'\n",
    "    else :\n",
    "        return '에러 발생'\n",
    "\n",
    "        \n",
    "\n",
    "if __name__ == '__main__':\n",
    "    app.run(host='220.80.203.53', port=5020)\n",
    "#   app.run('220.80.203.53', 5020)  : 생략가능/ 문자열은 호스트, 숫자는 port인식"
   ]
  },
  {
   "cell_type": "code",
   "execution_count": null,
   "id": "ae966982",
   "metadata": {},
   "outputs": [],
   "source": []
  },
  {
   "cell_type": "code",
   "execution_count": null,
   "id": "1b184502",
   "metadata": {},
   "outputs": [],
   "source": []
  },
  {
   "cell_type": "markdown",
   "id": "a7cc6c1e",
   "metadata": {},
   "source": [
    "# 0809"
   ]
  },
  {
   "cell_type": "code",
   "execution_count": null,
   "id": "ffbebaea",
   "metadata": {},
   "outputs": [],
   "source": [
    "from flask import Flask, render_template, request, redirect\n",
    "\n",
    "# redirect : page 를 이동하는 라이브러리"
   ]
  },
  {
   "cell_type": "code",
   "execution_count": null,
   "id": "7810e75c",
   "metadata": {},
   "outputs": [],
   "source": [
    "import os\n",
    "\n",
    "db = {\"id\":\"hwayeon\", \"pw\":\"1234\"}, {\"id\":\"pbk\", \"pw\":\"4321\"}\n",
    "\n",
    "#hwayeon 출력\n",
    "for user in db:\n",
    "    print(user[\"id\"])\n",
    "\n",
    "db[0]['id']\n",
    "# 회원정보가 담긴 db.txt 파일 불러오기\n",
    "\n"
   ]
  },
  {
   "cell_type": "code",
   "execution_count": null,
   "id": "c9d3d38c",
   "metadata": {},
   "outputs": [],
   "source": [
    "import os\n",
    "import json\n",
    "db = []\n",
    "# static폴더 내에 db.txt파일이 없으면!\n",
    "if not os.path.exists('static/db.txt'):\n",
    "    file = open('static/db.txt', 'w')\n",
    "    db.append({\"id\":\"admin\", \"pw\":\"1234\"})\n",
    "    db.append({\"id\":\"system\", \"pw\":\"12345\"})\n",
    "    # json : dicionary형태 data 다루는 라이브러리\n",
    "    # json to str : json.dumps()\n",
    "    str2 = json.dumps(db)\n",
    "    file.write(str2)\n",
    "else:\n",
    "    file = open('static/db.txt', 'r')\n",
    "    db = file.readline()\n",
    "    # str to json : json.loads()\n",
    "    database = json.loads(db)\n",
    "    print(type(database[0]))\n",
    "    print(database)\n",
    "file.close()\n"
   ]
  },
  {
   "cell_type": "code",
   "execution_count": null,
   "id": "19df4b41",
   "metadata": {},
   "outputs": [],
   "source": [
    "def login_check(login_id, login_pw):\n",
    "    \n",
    "    for user in database:\n",
    "        if user['id'] == login_id and user['pw'] == login_pw:\n",
    "            return True    \n",
    "    \n",
    "#     if login_id == \"hwayeon\" and login_pw == \"1234\":\n",
    "#         return True\n",
    "    \n",
    "    return False\n"
   ]
  },
  {
   "cell_type": "code",
   "execution_count": null,
   "id": "a25bb039",
   "metadata": {},
   "outputs": [],
   "source": [
    "def sign_in(join_id, join_pw):\n",
    "    # 1. database에 join_id와 join_pw를 dic 타입으로 append\n",
    "\n",
    "    dic2 = {}\n",
    "    dic2['id'] = join_id\n",
    "    dic2['pw'] = join_pw\n",
    "    database.append(dic2)\n",
    "    \n",
    "    \n",
    "    # 2. json to str -> db.txt에 쓰기\n",
    "    new_user= json.dumps(database)\n",
    "    \n",
    "    file = open('static/db.txt', 'w')\n",
    "    file.write(new_user)\n",
    "    file.close()\n",
    "    \n",
    "\n"
   ]
  },
  {
   "cell_type": "code",
   "execution_count": null,
   "id": "9b1f6987",
   "metadata": {},
   "outputs": [],
   "source": []
  },
  {
   "cell_type": "markdown",
   "id": "5ca9b253",
   "metadata": {},
   "source": [
    "# flask"
   ]
  },
  {
   "cell_type": "code",
   "execution_count": null,
   "id": "0638601e",
   "metadata": {},
   "outputs": [],
   "source": [
    "from flask import Flask, render_template, request, redirect\n",
    "\n",
    "app = Flask(__name__)\n",
    "\n",
    "@app.route('/')   \n",
    "def index():\n",
    "    return render_template('login.html')\n",
    "\n",
    "@app.route('/login', methods=['POST'])\n",
    "def login():\n",
    "    if request.method == 'POST':\n",
    "        login_id = request.form['id']\n",
    "        login_pw = request.form['pw']\n",
    "        \n",
    "        if login_check(login_id, login_pw)== True :\n",
    "            return \"로그인 성공\"\n",
    "        else:\n",
    "            return \"로그인 실패\" \n",
    "\n",
    "\n",
    "@app.route('/join', methods=['POST'])\n",
    "def join():\n",
    "    \n",
    "    if request.method == 'POST':\n",
    "        join_id = request.form['id']\n",
    "        join_pw = request.form['pw']\n",
    "        sign_in(join_id, join_pw)\n",
    "        # 성공 실패 여부 상관 없이\n",
    "        # '/'경로로 보내기\n",
    "        return redirect('/')\n",
    "\n",
    "        \n",
    "if __name__ == '__main__':\n",
    "    app.run(host='220.80.165.49', port=5020)\n"
   ]
  },
  {
   "cell_type": "code",
   "execution_count": null,
   "id": "856408b0",
   "metadata": {},
   "outputs": [],
   "source": []
  },
  {
   "cell_type": "code",
   "execution_count": 3,
   "id": "742bbac6",
   "metadata": {},
   "outputs": [
    {
     "name": "stdout",
     "output_type": "stream",
     "text": [
      "4\n"
     ]
    }
   ],
   "source": [
    "print(1+3)"
   ]
  },
  {
   "cell_type": "markdown",
   "id": "47ca7858",
   "metadata": {},
   "source": [
    "# Python - Oracle DB연동\n",
    "## 1. 드라이버 설치(oracle InstantClient)\n",
    "## 2. 드라이버 경로 잡기\n",
    "- python Oracle DB연동 라이브러리 설치! cx_Oracle\n"
   ]
  },
  {
   "cell_type": "markdown",
   "id": "0dbf913b",
   "metadata": {},
   "source": [
    "# Python - Oracle DB연동 4단계\n",
    "### 1. 드라이버 설치(oracle InstantClient)\n",
    "### 2. Connection 생성\n",
    "### 3.Cursor 생성\n",
    "### 4. 연결 종료"
   ]
  },
  {
   "cell_type": "code",
   "execution_count": null,
   "id": "8ae1c7c8",
   "metadata": {},
   "outputs": [],
   "source": [
    "def login_check(login_id, login_pw):\n",
    "    \n",
    "    for user in database:\n",
    "        if user['id'] == login_id and user['pw'] == login_pw:\n",
    "            return True    \n",
    "    \n",
    "#     if login_id == \"hwayeon\" and login_pw == \"1234\":\n",
    "#         return True\n",
    "    \n",
    "    return False\n"
   ]
  },
  {
   "cell_type": "code",
   "execution_count": null,
   "id": "3c2ce650",
   "metadata": {},
   "outputs": [],
   "source": [
    "C:\\Users\\gjaischool61\\workspace\\Server\\instantclient_21_6"
   ]
  },
  {
   "cell_type": "code",
   "execution_count": 2,
   "id": "7221e22f",
   "metadata": {},
   "outputs": [
    {
     "name": "stdout",
     "output_type": "stream",
     "text": [
      "Collecting cx_Oracle\n",
      "  Downloading cx_Oracle-8.3.0-cp39-cp39-win_amd64.whl (213 kB)\n",
      "Installing collected packages: cx-Oracle\n",
      "Successfully installed cx-Oracle-8.3.0\n"
     ]
    }
   ],
   "source": [
    "!pip install cx_Oracle "
   ]
  },
  {
   "cell_type": "code",
   "execution_count": 4,
   "id": "3892e84e",
   "metadata": {},
   "outputs": [],
   "source": [
    "import os\n",
    "\n",
    "# oracle 드라이버 경로\n",
    "Location = r\"C:\\Users\\gjaischool61\\workspace\\Server\\instantclient_21_6\"\n",
    "\n",
    "# 환경변수 등록하는 함수\n",
    "os.environ[\"PATH\"] = Location + \";\" + os.environ[\"PATH\"]"
   ]
  },
  {
   "cell_type": "markdown",
   "id": "8fa8d009",
   "metadata": {},
   "source": [
    "### 2.  Connection 생성"
   ]
  },
  {
   "cell_type": "code",
   "execution_count": 14,
   "id": "31adb0da",
   "metadata": {},
   "outputs": [
    {
     "name": "stdout",
     "output_type": "stream",
     "text": [
      "[('admin', '1234', '관리자', 10000)]\n"
     ]
    }
   ],
   "source": [
    "import cx_Oracle as db\n",
    "\n",
    "db_id = 'hr'\n",
    "db_pw = 'hr'\n",
    "url = '192.168.20.138:1521/xe'\n",
    "\n",
    "conn = db.connect(db_id, db_pw, url)\n",
    "\n",
    "# 3.Cursor 생성(SQL문을 전달하는 역할)\n",
    "# + Select 결과를 받아오는 역할\n",
    "\n",
    "curs = conn.cursor()\n",
    "\n",
    "# 로그인 알고리즘\n",
    "# 외부로부터 login_id, login_pw 입력받아\n",
    "# select pw from member where id == 'login_id'\n",
    "\n",
    "\n",
    "sql = 'select * from member '\n",
    "curs.execute(sql)\n",
    "result = curs.fetchall()\n",
    "\n",
    "print(result)\n",
    "\n",
    "conn.close()"
   ]
  },
  {
   "cell_type": "code",
   "execution_count": null,
   "id": "e3eaf492",
   "metadata": {},
   "outputs": [],
   "source": [
    "localhost\n",
    "\n",
    "port 번호 오라클 : 1521  "
   ]
  },
  {
   "cell_type": "code",
   "execution_count": 6,
   "id": "3d04259a",
   "metadata": {},
   "outputs": [],
   "source": [
    "import cx_Oracle as db\n",
    "\n",
    "def login_check(login_id, login_pw):\n",
    "    db_id = 'hr'\n",
    "    db_pw = 'hr'\n",
    "    url = '192.168.20.138:1521/xe'\n",
    "\n",
    "    conn = db.connect(db_id, db_pw, url)\n",
    "\n",
    "    # 3.Cursor 생성(SQL문을 전달하는 역할)\n",
    "    # + Select 결과를 받아오는 역할\n",
    "\n",
    "    curs = conn.cursor()\n",
    "\n",
    "    # 로그인 알고리즘\n",
    "    # 외부로부터 login_id, login_pw 입력받아\n",
    "    # select pw from member where id == 'login_id'\n",
    "    # login_id = 'admin'\n",
    "    # login_pw = '1234'\n",
    "\n",
    "    sql = f'select PW from member where ID = \"{login_id}\"'\n",
    "    curs.exeucte(sql)\n",
    "    result = curs.fetchall()\n",
    "    \n",
    "    try : \n",
    "        print(result[0][0])\n",
    "        conn.close()\n",
    "\n",
    "        if login_pw == result[0][0]:\n",
    "            print('로그인 성공')\n",
    "            return True\n",
    "        else:\n",
    "            print('로그인 실패')\n",
    "            return False\n",
    "    \n",
    "    except:\n",
    "        return False\n",
    "\n",
    "\n",
    "# sql = f'select PW from member where ID = \"{login_id}\"'\n",
    "# curs.execute(sql)\n",
    "# result = curs.fetchall()\n"
   ]
  },
  {
   "cell_type": "markdown",
   "id": "933b6002",
   "metadata": {},
   "source": [
    "### 회원가입\n",
    "### 1. 드라이버설치\n",
    "### 2. Connection 생성 (db_id, db_pw, url)\n",
    "### 3. Cursor 생성 (SQL문을 전달하는 역할, 쿼리 결과를 받아오는 역할)\n",
    "### 4. 연결종료"
   ]
  },
  {
   "cell_type": "code",
   "execution_count": 1,
   "id": "f3594d12",
   "metadata": {},
   "outputs": [],
   "source": [
    "import cx_Oracle as db\n",
    "\n",
    "def join(join_id, join_pw, join_name):\n",
    "    db_id = 'hr'\n",
    "    db_pw = 'hr'\n",
    "    url = '192.168.20.127:1521/xe'\n",
    "\n",
    "    conn = db.connect(db_id, db_pw, url)\n",
    "\n",
    "    curs = conn.cursor()\n",
    "    sql = \"insert into member (id, pw, name) values(:1, :2, :3)\"\n",
    "    curs.execute(sql, (join_id, join_pw, join_name))\n",
    "    conn.commit()\n",
    "\n",
    "    #순서 중요, 열었던 역순으로 닫아야 함\n",
    "    # data가 이동하는 통로는 열었뎐 역순으로 닫자\n",
    "    curs.close()\n",
    "    conn.close()\n"
   ]
  },
  {
   "cell_type": "code",
   "execution_count": null,
   "id": "5d59e786",
   "metadata": {},
   "outputs": [],
   "source": [
    "join('iu', '0516', '아이유')\n",
    "join('sla', '0726', '이스라')\n",
    "join('ham', '0820', '이해미')\n",
    "join('sickto', '0710', '기므내')\n",
    "join('admin', '1234', '관리자')"
   ]
  },
  {
   "cell_type": "code",
   "execution_count": 2,
   "id": "3b583dd7",
   "metadata": {},
   "outputs": [
    {
     "data": {
      "text/plain": [
       "\"('1234', '1234', '1234', 10000)</br>('admin', '1234', '관리자', 10000)\""
      ]
     },
     "execution_count": 2,
     "metadata": {},
     "output_type": "execute_result"
    }
   ],
   "source": [
    "import cx_Oracle as db\n",
    "\n",
    "def select():\n",
    "    db_id = 'hr'    # db ID\n",
    "    db_pw = 'hr'    # db pw\n",
    "    url = '192.168.20.127:1521/xe'  # db url, 기본주소 : localhost:1521/xe\n",
    "\n",
    "    conn = db.connect(db_id, db_pw, url)   # 나와 테이터베이스의 ㄷ통로\n",
    "    curs = conn.cursor()   # 데이터베이스 통로에 sql문을 전달하는 역할\n",
    "\n",
    "    sql =\"select * from member\"\n",
    "    rs = curs.execute(sql)  # result set\n",
    "    result = rs.fetchall()   # 튜플형태 반환\n",
    "    \n",
    "    r = '</br>'.join(map(str, result))\n",
    "    \n",
    "    return r\n",
    "\n",
    "select()"
   ]
  },
  {
   "cell_type": "code",
   "execution_count": 4,
   "id": "6c4ea551",
   "metadata": {},
   "outputs": [],
   "source": [
    "import cx_Oracle as db\n",
    "\n",
    "def login_check(login_id, login_pw):\n",
    "    db_id = 'hr'\n",
    "    db_pw = 'hr'\n",
    "    url = '192.168.20.127:1521/xe'\n",
    "\n",
    "    conn = db.connect(db_id, db_pw, url)\n",
    "    curs = conn.cursor()\n",
    "\n",
    "    sql = f\"select PW from member where ID = '{login_id}'\"\n",
    "    curs.execute(sql)\n",
    "    result = curs.fetchall()\n",
    "    curs.close()\n",
    "    conn.close()\n",
    "    try : \n",
    "        print(result[0][0])\n",
    "        if login_pw == result[0][0]:\n",
    "            print('로그인 성공')\n",
    "            return True\n",
    "        else:\n",
    "            print('로그인 실패')\n",
    "            return False\n",
    "    \n",
    "    except:\n",
    "        return False\n"
   ]
  },
  {
   "cell_type": "code",
   "execution_count": 5,
   "id": "ee9ed3e5",
   "metadata": {},
   "outputs": [
    {
     "name": "stdout",
     "output_type": "stream",
     "text": [
      " * Serving Flask app \"__main__\" (lazy loading)\n",
      " * Environment: production\n",
      "\u001b[31m   WARNING: This is a development server. Do not use it in a production deployment.\u001b[0m\n",
      "\u001b[2m   Use a production WSGI server instead.\u001b[0m\n",
      " * Debug mode: off\n"
     ]
    },
    {
     "name": "stderr",
     "output_type": "stream",
     "text": [
      " * Running on http://192.168.20.127:5067/ (Press CTRL+C to quit)\n",
      "192.168.20.127 - - [15/Aug/2022 13:22:03] \"GET / HTTP/1.1\" 200 -\n",
      "192.168.20.127 - - [15/Aug/2022 13:22:06] \"POST /login HTTP/1.1\" 200 -\n"
     ]
    },
    {
     "name": "stdout",
     "output_type": "stream",
     "text": [
      "1234\n",
      "로그인 성공\n"
     ]
    },
    {
     "name": "stderr",
     "output_type": "stream",
     "text": [
      "192.168.20.127 - - [15/Aug/2022 13:22:12] \"POST /login HTTP/1.1\" 200 -\n"
     ]
    },
    {
     "name": "stdout",
     "output_type": "stream",
     "text": [
      "1234\n",
      "로그인 실패\n"
     ]
    }
   ],
   "source": [
    "from flask import Flask, render_template, request, redirect\n",
    "\n",
    "app = Flask(__name__)\n",
    "\n",
    "@app.route('/')   \n",
    "def index():\n",
    "    return render_template('login.html')\n",
    "\n",
    "@app.route('/login', methods=['POST'])\n",
    "def login():\n",
    "    if request.method == 'POST':\n",
    "        login_id = request.form['id']\n",
    "        login_pw = request.form['pw']\n",
    "        \n",
    "        if login_check(login_id, login_pw)== True :\n",
    "            return \"로그인 성공\"\n",
    "        else:\n",
    "            return \"로그인 실패\" \n",
    "\n",
    "\n",
    "@app.route('/join', methods=['POST'])\n",
    "def join_member():\n",
    "    \n",
    "    if request.method == 'POST':\n",
    "        join_id = request.form['id']\n",
    "        join_pw = request.form['pw']\n",
    "        join_name = request.form['name']\n",
    "        join(join_id, join_pw, join_name)\n",
    "        \n",
    "        \n",
    "        # 성공 실패 여부 상관 없이\n",
    "        # '/'경로로 보내기\n",
    "        return redirect('/')\n",
    "\n",
    "    \n",
    "@app.route('/select')\n",
    "def select_member():\n",
    "    \n",
    "    # db를 통해 전체 회원 조회\n",
    "    result = select() \n",
    "#     result = \"전체회원~~~\"\n",
    "    return result\n",
    "\n",
    "\n",
    "        \n",
    "if __name__ == '__main__':\n",
    "    app.run(host='192.168.20.127', port=5067)\n"
   ]
  },
  {
   "cell_type": "code",
   "execution_count": null,
   "id": "dff29f8e",
   "metadata": {},
   "outputs": [],
   "source": []
  },
  {
   "cell_type": "code",
   "execution_count": null,
   "id": "f8eceb02",
   "metadata": {},
   "outputs": [],
   "source": []
  },
  {
   "cell_type": "code",
   "execution_count": null,
   "id": "103f8975",
   "metadata": {},
   "outputs": [],
   "source": []
  },
  {
   "cell_type": "code",
   "execution_count": null,
   "id": "6e6ae98c",
   "metadata": {},
   "outputs": [],
   "source": []
  },
  {
   "cell_type": "code",
   "execution_count": null,
   "id": "87c9872e",
   "metadata": {},
   "outputs": [],
   "source": [
    "\n",
    "@app.route('/join', methods=['POST'])\n",
    "def join():\n",
    "    print('회원가입 시켜줘!!!!')\n",
    "    join_id = request.form['id']\n",
    "    join_pw = request.form['pw']\n",
    "    join_nick = request.form['nick']\n",
    "    join_addr = request.form['addr']\n",
    "    \n",
    "    conn = db.connect(db_id, db_pw, url)\n",
    "    curs = conn.cursor()\n",
    "    \n",
    "#     sql = f\"insert into andMember values('{join_id}', '{join_pw}', '{join_nick}', '{join_addr}')\"\n",
    "    sql = \"insert into andMember values(:1, :2, :3, :4)\"\n",
    "    curs.execute(sql, (join_id, join_pw, join_nick, join_addr))\n",
    "\n",
    "    conn.commit()\n",
    "\n",
    "    curs.close()\n",
    "    conn.close()\n",
    "\n",
    "    print('회원정보: {}/{}/{}/{}'.format(join_id, join_pw, join_nick, join_addr))\n",
    "    \n",
    "    return 'hi!'\n",
    "\n"
   ]
  },
  {
   "cell_type": "code",
   "execution_count": null,
   "id": "02d473b0",
   "metadata": {},
   "outputs": [],
   "source": []
  },
  {
   "cell_type": "code",
   "execution_count": null,
   "id": "27050ef8",
   "metadata": {},
   "outputs": [],
   "source": []
  },
  {
   "cell_type": "code",
   "execution_count": null,
   "id": "2abf3305",
   "metadata": {},
   "outputs": [],
   "source": []
  },
  {
   "cell_type": "code",
   "execution_count": null,
   "id": "ac7b2e74",
   "metadata": {},
   "outputs": [],
   "source": []
  },
  {
   "cell_type": "code",
   "execution_count": null,
   "id": "36264fc7",
   "metadata": {},
   "outputs": [],
   "source": []
  },
  {
   "cell_type": "code",
   "execution_count": null,
   "id": "ba3edfab",
   "metadata": {},
   "outputs": [],
   "source": []
  },
  {
   "cell_type": "code",
   "execution_count": null,
   "id": "897f72e2",
   "metadata": {},
   "outputs": [],
   "source": [
    "import cx_Oracle as db\n",
    "def join(join_id, join_pw, join_name) :\n",
    "    db_id = \"hr\"\n",
    "    db_pw = \"hr\"\n",
    "    url = \"220.80.165.49:1521/xe\"            # IP주소/Port번호/DB버전\n",
    "    conn = db.connect(db_id, db_pw, url)\n",
    "    curs = conn.cursor()                      # sql 통로 생성\n",
    "    sql = \"insert into member(id, pw, name) values(:1,:2,:3)\"    # sql 내용 추가\n",
    "    curs.execute(sql,(join_id, join_pw, join_name))\n",
    "    conn.commit()                             # sql 내용 저장 완료\n",
    "    curs.close()                              # 연결된 통로를 닫는다. data가 이동하는 통로는 열었던 역순으로 닫기\n",
    "    conn.close()"
   ]
  },
  {
   "cell_type": "code",
   "execution_count": null,
   "id": "a065a2ff",
   "metadata": {},
   "outputs": [],
   "source": [
    "# 2. Connection 생성\n",
    "import cx_Oracle as db\n",
    "def login_check(login_id, login_pw) :\n",
    "    db_id = 'hr'\n",
    "    db_pw = 'hr'\n",
    "    url = '220.80.165.49:1521/xe'                             # 오라클 port와 버전 확인하여 넣기\n",
    "    conn = db.connect(db_id, db_pw, url)\n",
    "    # 3. Cursor 생성(SQL문을 전달하는 역할 + Select 결과를 받아오는 역할)\n",
    "    curs = conn.cursor()\n",
    "    # 로그인 알고리즘\n",
    "    # 외부로부터 login_id,login_pw가 들어오면,\n",
    "    # select pw from member where id = 'login_id'\n",
    "    sql = f\"select PW from member where ID = '{login_id}'\"\n",
    "    curs.execute(sql)                                                  # sql 전달받아 실행\n",
    "    result = curs.fetchall()                                           # curs.fetchall() -> 결과를 담아오는..\n",
    "    try :                                                              # 예외처러로 오류처리\n",
    "        conn.close()\n",
    "        print(result[0][0])                                                # list 형태여서 인덱스로 가져와 출력 가능.\n",
    "        if login_pw == result[0][0] :\n",
    "            print('로그인 성공')\n",
    "            return True\n",
    "        else :\n",
    "            print('로그인 실패')\n",
    "            return False\n",
    "    except :\n",
    "        return False"
   ]
  },
  {
   "cell_type": "code",
   "execution_count": null,
   "id": "a2aca7ab",
   "metadata": {},
   "outputs": [],
   "source": [
    "from flask import Flask, render_template, request, redirect    # 라이브러리 파일 실행   / redirect : 페이지를 이동하는 라이브러리\n",
    "app = Flask(__name__)                                           # 인스턴스,  qpp에 __name__객체 생성하기\n",
    "@app.route('/')                                                 # 주소연결, 계정 추가\n",
    "def index() :                                                   # index 함수의 내용을 호출해서 리턴\n",
    "    return render_template('login.html')\n",
    "@app.route('/login', methods = ['POST'])\n",
    "def login() :\n",
    "    if request.method == 'POST' :\n",
    "        login_id = request.form['id']\n",
    "        login_pw = request.form['pw']\n",
    "        if login_check(login_id, login_pw) == True :\n",
    "            print('로그인 성공')\n",
    "            return '로그인 성공'\n",
    "        else :\n",
    "            print('로그인 실패')\n",
    "            return '로그인 실패'\n",
    "@app.route('/join', methods = ['POST'])\n",
    "def join_member() :\n",
    "    if request.method == 'POST' :\n",
    "        join_id = request.form['id']\n",
    "        join_pw = request.form['pw']\n",
    "        join_name = request.form['name']\n",
    "        join(join_id, join_pw, join_name)\n",
    "        return redirect('/')                                    # 성공 실패 여부 상관없이 '/'경로(저장된 첫페이지)로 보내기\n",
    "@app.route('/select')\n",
    "def select_member() :\n",
    "    #result = select()                                           # DB를 통해 전체 회원 조회하여 변수에 담기\n",
    "    result = '전체 회원~~'\n",
    "    return result\n",
    "if __name__ == '__main__' :                                     # 모듈 실행\n",
    "    app.run(host='220.80.165.49', port=5022)                   # 내 컴퓨터 내 IP주소 설정 출력"
   ]
  },
  {
   "cell_type": "code",
   "execution_count": null,
   "id": "1bd534d3",
   "metadata": {},
   "outputs": [],
   "source": []
  }
 ],
 "metadata": {
  "kernelspec": {
   "display_name": "Python 3 (ipykernel)",
   "language": "python",
   "name": "python3"
  },
  "language_info": {
   "codemirror_mode": {
    "name": "ipython",
    "version": 3
   },
   "file_extension": ".py",
   "mimetype": "text/x-python",
   "name": "python",
   "nbconvert_exporter": "python",
   "pygments_lexer": "ipython3",
   "version": "3.9.12"
  },
  "vscode": {
   "interpreter": {
    "hash": "f0d9cbf290bb542588e3e0ac141d6e359a44a3f3a82721622818cdbead48858e"
   }
  }
 },
 "nbformat": 4,
 "nbformat_minor": 5
}
